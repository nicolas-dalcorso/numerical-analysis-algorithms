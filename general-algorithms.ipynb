{
 "cells": [
  {
   "attachments": {},
   "cell_type": "markdown",
   "metadata": {},
   "source": [
    "## Summation\n",
    "Given a list of numbers $x_{1}, x_{2}, ..., x_{N}$ and an integer $N$, the algorithm calculates the sum of the numbers up to $N$.\n",
    "\n",
    "`input`: $N, x_{1}, x_{2}, ..., x_{N}$;\n",
    "\n",
    "`output`: $\\text{SUM} = \\sum_{i=1}^{N} x_{i}$;"
   ]
  },
  {
   "cell_type": "code",
   "execution_count": 6,
   "metadata": {},
   "outputs": [
    {
     "name": "stdout",
     "output_type": "stream",
     "text": [
      "1 3 15 55 1275 5050\n"
     ]
    }
   ],
   "source": [
    "def summation(N:int, num:list) -> int:\n",
    "    #   Initializes the accumulator\n",
    "    sum = 0;\n",
    "    \n",
    "    #   Iterate over list of numbers, summing each number to the accumulator\n",
    "    for i in range(N):\n",
    "        sum = sum + num[i];\n",
    "        \n",
    "    #   Return the summation\n",
    "    return sum;\n",
    "\n",
    "\n",
    "#   Create a list of integers from 1 to N\n",
    "def createIntegerList(N:int) -> list:\n",
    "    #   Initializes an empty list\n",
    "    integers:list=[];\n",
    "    \n",
    "    for i in range(1, N):\n",
    "        integers.append(i);\n",
    "        \n",
    "    return integers;\n",
    "\n",
    "#   Check the `summation()` function\n",
    "numbers = createIntegerList(101);\n",
    "\n",
    "print(summation(1, numbers),\n",
    "      summation(2, numbers),\n",
    "      summation(5, numbers),\n",
    "      summation(10, numbers),\n",
    "      summation(50, numbers),\n",
    "      summation(100, numbers));"
   ]
  },
  {
   "attachments": {},
   "cell_type": "markdown",
   "metadata": {},
   "source": [
    "We know from number theory that the arithmetic progression has a closed formula for its summation. Since Gauss's days in primary school, the closed formula is\n",
    "$$\\sum_{i=1}^{n} x_{i} = \\frac{n(n+1)}{2}$$\n",
    "if we take only the $n$ first natural numbers.\n",
    "The method described above can accept any type of numbers, in any type of number sequence."
   ]
  },
  {
   "attachments": {},
   "cell_type": "markdown",
   "metadata": {},
   "source": [
    "## Taylor's Polynomial for $f(x) = \\ln x$ expanded about $x_{0} = 1$\n",
    "From Calculus, we know that the Taylor polynomial $P_{n}(x)$ for a function $f(x)$ around $x_{0} = k$ is given by the infinite series\n",
    "$$P_{n}(x) = \\sum_{i=1}^{n} \\frac{f^{n}(x)}{i!} (x - k)^{i}$$\n",
    "So, if we take $f(x) = \\ln x$ around $x_{0} = 1$, we have\n",
    "$$P_{n}(x) = \\sum_{i=1}^{n} \\frac{(-1)^{i+1}}{i} (x - 1)^{i}$$\n",
    "\n",
    "Given the value for $\\ln 1,5$ to eight decimal places is $0.40546511$, we shall construct an algorithm for calculating the minimal value $n$ so that\n",
    "$$| \\ln 1.5 - P_{n}(1.5) | < 10^{-5}$$\n",
    "\n",
    "The solution revolves around knowing that the series is an alternating series with a limit $L$ whose terms *decrease* in magnitude (otherwise, the series would diverge). Because of this, we know that $L$ and the $n$th partial sum $A_{n}$ differ by less than the magnitude of the $(n+1)$st term. Then,\n",
    "$$| A - A_{n} | \\leq |A_{n+1}|$$"
   ]
  },
  {
   "cell_type": "code",
   "execution_count": 13,
   "metadata": {},
   "outputs": [
    {
     "name": "stdout",
     "output_type": "stream",
     "text": [
      "22\n"
     ]
    }
   ],
   "source": [
    "def naturalLogarithm(x:float, tolerance, maxIterations) -> float:\n",
    "    \"\"\"Given a value `x`, a `tolerance` and `maxIterations`, returns the degree of the Taylor polynomial necessary for computing the value.\n",
    "    \"\"\"\n",
    "    #   Initializes work variables\n",
    "    n       = 1;\n",
    "    y       = x - 1;\n",
    "    sum     = 0;\n",
    "    power   = y;\n",
    "    term    = y;\n",
    "    sign    = -1;\n",
    "    \n",
    "    while(n <= maxIterations):\n",
    "        sign    = -sign;\n",
    "        sum     = sum + sign*term;\n",
    "        power   = power*y;\n",
    "        term    = power / (n+1);\n",
    "        \n",
    "        #   Test for accuracy\n",
    "        if abs(term) < tolerance:\n",
    "            return n;\n",
    "        else:\n",
    "            n += 1;\n",
    "            \n",
    "print(naturalLogarithm(x=1.5, tolerance=0.00001, maxIterations=15));"
   ]
  }
 ],
 "metadata": {
  "kernelspec": {
   "display_name": "Python 3",
   "language": "python",
   "name": "python3"
  },
  "language_info": {
   "codemirror_mode": {
    "name": "ipython",
    "version": 3
   },
   "file_extension": ".py",
   "mimetype": "text/x-python",
   "name": "python",
   "nbconvert_exporter": "python",
   "pygments_lexer": "ipython3",
   "version": "3.9.16"
  },
  "orig_nbformat": 4
 },
 "nbformat": 4,
 "nbformat_minor": 2
}
